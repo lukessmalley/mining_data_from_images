{
 "cells": [
  {
   "cell_type": "code",
   "execution_count": null,
   "id": "2e2b36d3",
   "metadata": {},
   "outputs": [],
   "source": [
    "import cv2\n",
    "import numpy as np\n",
    "import matplotlib.pyplot as plt\n",
    "\n",
    "# Load two images\n",
    "img1 = cv2.imread('images/bird.jpg', 0)\n",
    "img2 = cv2.imread('images/bird2.jpg', 0)\n",
    "\n",
    "# Calculate histograms\n",
    "hist1 = cv2.calcHist([img1], [0], None, [256], [0, 256])\n",
    "hist2 = cv2.calcHist([img2], [0], None, [256], [0, 256])\n",
    "\n",
    "# Plot the histograms of the two images\n",
    "plt.subplot(1, 2, 1)\n",
    "plt.plot(hist1)\n",
    "plt.title('Histogram for Image 1')\n",
    "plt.xlabel('Pixel Intensity')\n",
    "plt.ylabel('Number of Pixels')\n",
    "\n",
    "plt.subplot(1, 2, 2)\n",
    "plt.plot(hist2)\n",
    "plt.title('Histogram for Image 2')\n",
    "plt.xlabel('Pixel Intensity')\n",
    "\n",
    "plt.show()"
   ]
  },
  {
   "cell_type": "code",
   "execution_count": null,
   "id": "d4745320",
   "metadata": {},
   "outputs": [],
   "source": [
    "# Compare the histograms using correlation\n",
    "correlation = cv2.compareHist(hist1, hist2, cv2.HISTCMP_CORREL)\n",
    "\n",
    "# Print the correlation score\n",
    "print(\"Correlation: \", correlation)"
   ]
  },
  {
   "cell_type": "code",
   "execution_count": null,
   "id": "cfed151f",
   "metadata": {},
   "outputs": [],
   "source": [
    "# Compare the histograms using chi-squared distance\n",
    "chi_squared = cv2.compareHist(hist1,hist2,cv2.HISTCMP_CHISQR)\n",
    "\n",
    "# Print the chi-squared distance\n",
    "print(\"Chi-Squared Distance: \", chi_squared)"
   ]
  },
  {
   "cell_type": "code",
   "execution_count": null,
   "id": "c5db9bce",
   "metadata": {},
   "outputs": [],
   "source": [
    "# Compare the histograms using the intersection method\n",
    "intersection = cv2.compareHist(hist1,hist2,cv2.HISTCMP_INTERSECT)\n",
    "\n",
    "# Print the intersection score\n",
    "print(\"Intersection: \", intersection)"
   ]
  },
  {
   "cell_type": "code",
   "execution_count": null,
   "id": "a4e8bd81",
   "metadata": {},
   "outputs": [],
   "source": [
    "# Compare the histograms using the Bhattacharyya distance\n",
    "bhattacharyya = cv2.compareHist(hist1,hist2,cv2.HISTCMP_BHATTACHARYYA)\n",
    "\n",
    "# Print the Bhattacharyya distance\n",
    "print(\"Bhattacharyya Distance: \", bhattacharyya)"
   ]
  }
 ],
 "metadata": {
  "kernelspec": {
   "display_name": "Python 3 (ipykernel)",
   "language": "python",
   "name": "python3"
  },
  "language_info": {
   "codemirror_mode": {
    "name": "ipython",
    "version": 3
   },
   "file_extension": ".py",
   "mimetype": "text/x-python",
   "name": "python",
   "nbconvert_exporter": "python",
   "pygments_lexer": "ipython3",
   "version": "3.11.1"
  }
 },
 "nbformat": 4,
 "nbformat_minor": 5
}

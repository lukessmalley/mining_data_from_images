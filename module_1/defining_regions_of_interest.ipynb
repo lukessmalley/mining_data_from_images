{
 "cells": [
  {
   "cell_type": "code",
   "execution_count": null,
   "id": "2e2b36d3",
   "metadata": {},
   "outputs": [],
   "source": [
    "import cv2\n",
    "import numpy as np\n",
    "from IPython.display import Image\n",
    "\n",
    "# Read the image from the file path\n",
    "image_path = 'images/black_and_yellow_broadbill.jpg'\n",
    "image = cv2.imread(image_path)\n",
    "\n",
    "bird = image[180:640,220:600]\n",
    "\n",
    "# Save the image\n",
    "image_path = 'images/bird.jpg'\n",
    "cv2.imwrite(image_path, bird)\n",
    "\n",
    "# Display the image\n",
    "Image(image_path)"
   ]
  }
 ],
 "metadata": {
  "kernelspec": {
   "display_name": "Python 3 (ipykernel)",
   "language": "python",
   "name": "python3"
  },
  "language_info": {
   "codemirror_mode": {
    "name": "ipython",
    "version": 3
   },
   "file_extension": ".py",
   "mimetype": "text/x-python",
   "name": "python",
   "nbconvert_exporter": "python",
   "pygments_lexer": "ipython3",
   "version": "3.11.1"
  }
 },
 "nbformat": 4,
 "nbformat_minor": 5
}

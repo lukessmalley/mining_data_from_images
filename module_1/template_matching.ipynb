{
 "cells": [
  {
   "cell_type": "code",
   "execution_count": null,
   "id": "2e2b36d3",
   "metadata": {},
   "outputs": [],
   "source": [
    "import cv2\n",
    "from IPython.display import Image\n",
    "import matplotlib.pyplot as plt\n",
    "\n",
    "# Load the main image\n",
    "main_image = cv2.imread('images/black_and_yellow_broadbill.jpg',0)\n",
    "\n",
    "# Load the template image\n",
    "template_image = cv2.imread('images/bird.jpg',0)"
   ]
  },
  {
   "cell_type": "code",
   "execution_count": null,
   "id": "6f740432",
   "metadata": {},
   "outputs": [],
   "source": [
    "result = cv2.matchTemplate(main_image, template_image, cv2.TM_CCOEFF)"
   ]
  },
  {
   "cell_type": "code",
   "execution_count": null,
   "id": "0dc6a9f1",
   "metadata": {},
   "outputs": [],
   "source": [
    "min_val, max_val, min_loc, max_loc = cv2.minMaxLoc(result)\n",
    "\n",
    "print(min_val, max_val, min_loc, max_loc)"
   ]
  },
  {
   "cell_type": "code",
   "execution_count": null,
   "id": "369d398c",
   "metadata": {},
   "outputs": [],
   "source": [
    "# Get the coordinates of the top-left corner of the matched region\n",
    "top_left = max_loc\n",
    "\n",
    "# Get the dimensions of the template image\n",
    "h, w = template_image.shape\n",
    "\n",
    "# Get the coordinates of the bottom-right corner of the matched region\n",
    "bottom_right = (top_left[0] + w, top_left[1] + h)\n",
    "\n",
    "# Draw a rectangle around the matched region on the main image\n",
    "cv2.rectangle(main_image, top_left, bottom_right, 255, 2)"
   ]
  },
  {
   "cell_type": "code",
   "execution_count": null,
   "id": "d9e4f47a",
   "metadata": {},
   "outputs": [],
   "source": [
    "# Save the image\n",
    "image_path = 'template_match.jpg'\n",
    "cv2.imwrite(image_path, main_image)\n",
    "\n",
    "# Display the image\n",
    "Image(image_path)"
   ]
  },
  {
   "cell_type": "code",
   "execution_count": null,
   "id": "c3604ee9",
   "metadata": {},
   "outputs": [],
   "source": []
  },
  {
   "cell_type": "code",
   "execution_count": null,
   "id": "4f8307dd",
   "metadata": {},
   "outputs": [],
   "source": [
    "# Load another image\n",
    "main_image = cv2.imread('images/template_matching2.jpg',0)\n",
    "main_image = cv2.flip(main_image, 1)\n",
    "\n",
    "result = cv2.matchTemplate(main_image, template_image, cv2.TM_CCOEFF)\n",
    "min_val, max_val, min_loc, max_loc = cv2.minMaxLoc(result)\n",
    "# Get the coordinates of the top-left corner of the matched region\n",
    "top_left = max_loc\n",
    "\n",
    "# Get the dimensions of the template image\n",
    "h, w = template_image.shape\n",
    "\n",
    "# Get the coordinates of the bottom-right corner of the matched region\n",
    "bottom_right = (top_left[0] + w, top_left[1] + h)\n",
    "\n",
    "# Draw a rectangle around the matched region on the main image\n",
    "cv2.rectangle(main_image, top_left, bottom_right, 255, 2)\n",
    "\n",
    "# Save the image\n",
    "image_path = 'images/template_match2.jpg'\n",
    "cv2.imwrite(image_path, main_image)\n",
    "\n",
    "# Display the image\n",
    "Image(image_path)"
   ]
  }
 ],
 "metadata": {
  "kernelspec": {
   "display_name": "Python 3 (ipykernel)",
   "language": "python",
   "name": "python3"
  },
  "language_info": {
   "codemirror_mode": {
    "name": "ipython",
    "version": 3
   },
   "file_extension": ".py",
   "mimetype": "text/x-python",
   "name": "python",
   "nbconvert_exporter": "python",
   "pygments_lexer": "ipython3",
   "version": "3.11.1"
  }
 },
 "nbformat": 4,
 "nbformat_minor": 5
}

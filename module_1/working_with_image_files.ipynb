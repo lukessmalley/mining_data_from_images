{
 "cells": [
  {
   "cell_type": "code",
   "execution_count": null,
   "id": "2e2b36d3",
   "metadata": {},
   "outputs": [],
   "source": [
    "import cv2\n",
    "import numpy as np\n",
    "import urllib.request\n",
    "from IPython.display import Image\n",
    "\n",
    "url = 'https://upload.wikimedia.org/wikipedia/commons/thumb/e/e9/Black-and-yellow_Broadbill_0A2A8552.jpg/1280px-Black-and-yellow_Broadbill_0A2A8552.jpg'\n",
    "\n",
    "# Load the image using OpenCV and urllib.request\n",
    "resp = urllib.request.urlopen(url)\n",
    "img = np.asarray(bytearray(resp.read()), dtype=\"uint8\")\n",
    "image = cv2.imdecode(img, cv2.IMREAD_COLOR)\n",
    "\n",
    "# Save the image\n",
    "image_path = 'images/black_and_yellow_broadbill.jpg'\n",
    "cv2.imwrite(image_path, image)\n",
    "\n",
    "# Display the image\n",
    "Image(image_path)"
   ]
  },
  {
   "cell_type": "code",
   "execution_count": null,
   "id": "74916ff3",
   "metadata": {},
   "outputs": [],
   "source": []
  }
 ],
 "metadata": {
  "kernelspec": {
   "display_name": "Python 3 (ipykernel)",
   "language": "python",
   "name": "python3"
  },
  "language_info": {
   "codemirror_mode": {
    "name": "ipython",
    "version": 3
   },
   "file_extension": ".py",
   "mimetype": "text/x-python",
   "name": "python",
   "nbconvert_exporter": "python",
   "pygments_lexer": "ipython3",
   "version": "3.11.1"
  }
 },
 "nbformat": 4,
 "nbformat_minor": 5
}

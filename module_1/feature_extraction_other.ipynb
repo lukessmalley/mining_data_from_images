{
 "cells": [
  {
   "cell_type": "code",
   "execution_count": null,
   "id": "2e2b36d3",
   "metadata": {},
   "outputs": [],
   "source": [
    "import cv2\n",
    "from IPython.display import Image\n",
    "import matplotlib.pyplot as plt\n",
    "import numpy as np\n",
    "\n",
    "# Load the main image\n",
    "image = cv2.imread('images/bird.jpg',0)"
   ]
  },
  {
   "cell_type": "code",
   "execution_count": null,
   "id": "b56d4dff",
   "metadata": {},
   "outputs": [],
   "source": [
    "# Create a BRISK detector object\n",
    "brisk = cv2.BRISK_create()\n",
    "\n",
    "# Get keypoints and descriptors\n",
    "kp, descriptors = brisk.detectAndCompute(image, None)\n",
    "\n",
    "# Draw the keypoints\n",
    "brisk_img = cv2.drawKeypoints(image, kp, None,color=(0,0,255))"
   ]
  },
  {
   "cell_type": "code",
   "execution_count": null,
   "id": "3da98f9e",
   "metadata": {},
   "outputs": [],
   "source": [
    "# Save the image\n",
    "image_path = 'images/brisk.jpg'\n",
    "cv2.imwrite(image_path, brisk_img)\n",
    "\n",
    "# Display the image\n",
    "Image(image_path)"
   ]
  },
  {
   "cell_type": "code",
   "execution_count": null,
   "id": "775a21ad",
   "metadata": {},
   "outputs": [],
   "source": [
    "# Define gabor filter\n",
    "ksize = 31\n",
    "theta = np.pi/4\n",
    "phi = np.pi/2\n",
    "sigma = 5.0\n",
    "gamma = 1.5\n",
    "gabor_filter = cv2.getGaborKernel((ksize, ksize), sigma, theta, 1.0, gamma, phi, ktype=cv2.CV_32F)\n",
    "\n",
    "# Apply Gabor filter\n",
    "filtered_img = cv2.filter2D(image, cv2.CV_8UC3, gabor_filter)\n",
    "\n",
    "# Save the image\n",
    "image_path = 'images/gabor.jpg'\n",
    "cv2.imwrite(image_path, filtered_img)\n",
    "\n",
    "# Display the image\n",
    "Image(image_path)"
   ]
  }
 ],
 "metadata": {
  "kernelspec": {
   "display_name": "Python 3 (ipykernel)",
   "language": "python",
   "name": "python3"
  },
  "language_info": {
   "codemirror_mode": {
    "name": "ipython",
    "version": 3
   },
   "file_extension": ".py",
   "mimetype": "text/x-python",
   "name": "python",
   "nbconvert_exporter": "python",
   "pygments_lexer": "ipython3",
   "version": "3.11.1"
  }
 },
 "nbformat": 4,
 "nbformat_minor": 5
}

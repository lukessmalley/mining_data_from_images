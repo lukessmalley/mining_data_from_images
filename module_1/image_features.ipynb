{
 "cells": [
  {
   "cell_type": "code",
   "execution_count": null,
   "id": "2e2b36d3",
   "metadata": {},
   "outputs": [],
   "source": [
    "import cv2\n",
    "from IPython.display import Image\n",
    "\n",
    "# Load image\n",
    "img = cv2.imread('images/bird.jpg')\n",
    "\n",
    "# Convert image to grayscale\n",
    "gray = cv2.cvtColor(img, cv2.COLOR_BGR2GRAY)\n",
    "\n",
    "# Initialize SIFT detector\n",
    "sift = cv2.SIFT_create()\n",
    "\n",
    "# Detect keypoints and compute descriptors\n",
    "kp, des = sift.detectAndCompute(gray, None)\n",
    "\n",
    "# Draw keypoints on image\n",
    "img_kp = cv2.drawKeypoints(img, kp, None,color=(0,0,255))\n",
    "\n",
    "# Save the image\n",
    "image_path = 'images/key_points.jpg'\n",
    "cv2.imwrite(image_path, img_kp)\n",
    "\n",
    "# Display the image\n",
    "Image(image_path)"
   ]
  },
  {
   "cell_type": "code",
   "execution_count": null,
   "id": "ca6fc1a1",
   "metadata": {},
   "outputs": [],
   "source": [
    "import numpy as np\n",
    "\n",
    "blank_img = np.zeros_like(gray)\n",
    "\n",
    "# Draw keypoints on the blank image\n",
    "img_kp = cv2.drawKeypoints(blank_img, kp, None, color=(0,0,255))\n",
    "\n",
    "# Save the image\n",
    "image_path = 'images/key_points_blank.jpg'\n",
    "cv2.imwrite(image_path, img_kp)\n",
    "\n",
    "# Display the image\n",
    "Image(image_path)"
   ]
  },
  {
   "cell_type": "code",
   "execution_count": null,
   "id": "6cbfe2db",
   "metadata": {},
   "outputs": [],
   "source": [
    "# Initialize ORB detector\n",
    "orb = cv2.ORB_create()\n",
    "\n",
    "# Detect keypoints and compute descriptors\n",
    "kp, des = orb.detectAndCompute(gray, None)\n",
    "\n",
    "# Draw keypoints on the image\n",
    "img_kp = cv2.drawKeypoints(gray, kp, None, color=(0, 255, 0), flags=0)\n",
    "\n",
    "# Save the image\n",
    "image_path = 'images/orb.jpg'\n",
    "cv2.imwrite(image_path, img_kp)\n",
    "\n",
    "# Display the image\n",
    "Image(image_path)"
   ]
  }
 ],
 "metadata": {
  "kernelspec": {
   "display_name": "Python 3 (ipykernel)",
   "language": "python",
   "name": "python3"
  },
  "language_info": {
   "codemirror_mode": {
    "name": "ipython",
    "version": 3
   },
   "file_extension": ".py",
   "mimetype": "text/x-python",
   "name": "python",
   "nbconvert_exporter": "python",
   "pygments_lexer": "ipython3",
   "version": "3.11.1"
  }
 },
 "nbformat": 4,
 "nbformat_minor": 5
}

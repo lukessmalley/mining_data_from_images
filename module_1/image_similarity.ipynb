{
 "cells": [
  {
   "cell_type": "code",
   "execution_count": null,
   "id": "2e2b36d3",
   "metadata": {},
   "outputs": [],
   "source": [
    "from PIL import Image\n",
    "import numpy as np\n",
    "import cv2\n",
    "\n",
    "size = (150, 200)\n",
    "\n",
    "# Load the images and resize them\n",
    "img1 = Image.open(\"images/bird.jpg\").convert(\"RGB\").resize(size)\n",
    "img2 = Image.open(\"images/blurred_bird.jpg\").convert(\"RGB\").resize(size)"
   ]
  },
  {
   "cell_type": "code",
   "execution_count": null,
   "id": "fd7e1e4a",
   "metadata": {},
   "outputs": [],
   "source": [
    "img1"
   ]
  },
  {
   "cell_type": "code",
   "execution_count": null,
   "id": "53f5cbaf",
   "metadata": {},
   "outputs": [],
   "source": [
    "img2"
   ]
  },
  {
   "cell_type": "code",
   "execution_count": null,
   "id": "1e3faf02",
   "metadata": {},
   "outputs": [],
   "source": [
    "img1_arr = np.array(img1)\n",
    "img2_arr = np.array(img2)"
   ]
  },
  {
   "cell_type": "code",
   "execution_count": null,
   "id": "fce70b38",
   "metadata": {},
   "outputs": [],
   "source": [
    "import sewar\n",
    "\n",
    "mse = sewar.full_ref.mse(img1_arr, img2_arr)\n",
    "\n",
    "print(mse)"
   ]
  },
  {
   "cell_type": "code",
   "execution_count": null,
   "id": "5022bc87",
   "metadata": {},
   "outputs": [],
   "source": [
    "img3 = Image.open(\"images/bird2.jpg\").convert(\"RGB\").resize(size)\n",
    "img3_arr = np.array(img3)\n",
    "img3"
   ]
  },
  {
   "cell_type": "code",
   "execution_count": null,
   "id": "f89a104f",
   "metadata": {},
   "outputs": [],
   "source": [
    "mse2 = sewar.full_ref.mse(img1_arr, img3_arr)\n",
    "\n",
    "print(mse2)"
   ]
  },
  {
   "cell_type": "code",
   "execution_count": null,
   "id": "dd2ba0e9",
   "metadata": {},
   "outputs": [],
   "source": [
    "ssim = sewar.full_ref.ssim(img1_arr, img2_arr)\n",
    "\n",
    "print(ssim)\n",
    "\n",
    "ssim2 = sewar.full_ref.ssim(img1_arr, img3_arr)\n",
    "\n",
    "print(ssim2)"
   ]
  },
  {
   "cell_type": "code",
   "execution_count": null,
   "id": "55c07030",
   "metadata": {},
   "outputs": [],
   "source": [
    "psnr = sewar.full_ref.psnr(img1_arr, img2_arr)\n",
    "\n",
    "print(psnr)\n",
    "\n",
    "psnr2 = sewar.full_ref.psnr(img1_arr, img3_arr)\n",
    "\n",
    "print(psnr2)"
   ]
  },
  {
   "cell_type": "code",
   "execution_count": null,
   "id": "6ef4e9a8",
   "metadata": {},
   "outputs": [],
   "source": [
    "uqi = sewar.full_ref.uqi(img1_arr, img2_arr)\n",
    "\n",
    "print(uqi)\n",
    "\n",
    "uqi2 = sewar.full_ref.uqi(img1_arr, img3_arr)\n",
    "\n",
    "print(uqi2)"
   ]
  }
 ],
 "metadata": {
  "kernelspec": {
   "display_name": "Python 3 (ipykernel)",
   "language": "python",
   "name": "python3"
  },
  "language_info": {
   "codemirror_mode": {
    "name": "ipython",
    "version": 3
   },
   "file_extension": ".py",
   "mimetype": "text/x-python",
   "name": "python",
   "nbconvert_exporter": "python",
   "pygments_lexer": "ipython3",
   "version": "3.11.1"
  }
 },
 "nbformat": 4,
 "nbformat_minor": 5
}

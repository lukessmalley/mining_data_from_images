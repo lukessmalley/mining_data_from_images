{
 "cells": [
  {
   "cell_type": "code",
   "execution_count": null,
   "id": "2e2b36d3",
   "metadata": {},
   "outputs": [],
   "source": [
    "from PIL import Image\n",
    "import numpy as np\n",
    "import cv2\n",
    "\n",
    "size = (150, 200)\n",
    "\n",
    "# Load the images and resize them\n",
    "img1 = Image.open(\"images/bird.jpg\").convert(\"RGB\").resize(size)\n",
    "img2 = Image.open(\"images/blurred_bird.jpg\").convert(\"RGB\").resize(size)"
   ]
  },
  {
   "cell_type": "code",
   "execution_count": null,
   "id": "fd7e1e4a",
   "metadata": {},
   "outputs": [],
   "source": [
    "img1"
   ]
  },
  {
   "cell_type": "code",
   "execution_count": null,
   "id": "53f5cbaf",
   "metadata": {},
   "outputs": [],
   "source": [
    "img2"
   ]
  },
  {
   "cell_type": "code",
   "execution_count": null,
   "id": "1e3faf02",
   "metadata": {},
   "outputs": [],
   "source": [
    "img1_arr = np.array(img1)\n",
    "img2_arr = np.array(img2)"
   ]
  },
  {
   "cell_type": "code",
   "execution_count": null,
   "id": "808eef73",
   "metadata": {},
   "outputs": [],
   "source": [
    "diff = cv2.subtract(img1_arr, img2_arr)\n",
    "\n",
    "# Save the resulting image\n",
    "cv2.imwrite(\"difference.jpg\", diff)"
   ]
  },
  {
   "cell_type": "code",
   "execution_count": null,
   "id": "a4796f30",
   "metadata": {},
   "outputs": [],
   "source": [
    "Image.open(\"difference.jpg\").convert(\"RGB\").resize(size)"
   ]
  }
 ],
 "metadata": {
  "kernelspec": {
   "display_name": "Python 3 (ipykernel)",
   "language": "python",
   "name": "python3"
  },
  "language_info": {
   "codemirror_mode": {
    "name": "ipython",
    "version": 3
   },
   "file_extension": ".py",
   "mimetype": "text/x-python",
   "name": "python",
   "nbconvert_exporter": "python",
   "pygments_lexer": "ipython3",
   "version": "3.11.1"
  }
 },
 "nbformat": 4,
 "nbformat_minor": 5
}

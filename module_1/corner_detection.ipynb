{
 "cells": [
  {
   "cell_type": "code",
   "execution_count": null,
   "id": "2e2b36d3",
   "metadata": {},
   "outputs": [],
   "source": [
    "import cv2\n",
    "from IPython.display import Image\n",
    "\n",
    "# Load image\n",
    "img = cv2.imread('images/chess.jpg')\n",
    "\n",
    "# Convert image to grayscale\n",
    "gray = cv2.cvtColor(img, cv2.COLOR_BGR2GRAY)\n",
    "\n",
    "# Applying the function\n",
    "dst = cv2.cornerHarris(gray, blockSize=5, ksize=3, k=0.04)\n",
    "  \n",
    "# dilate to mark the corners\n",
    "dst = cv2.dilate(dst, None)\n",
    "img[dst > 0.01 * dst.max()] = [0, 255, 0]\n",
    "\n",
    "# Save the image\n",
    "image_path = 'harris_corner.jpg'\n",
    "cv2.imwrite(image_path, img)\n",
    "\n",
    "# Display the image\n",
    "Image(image_path)"
   ]
  },
  {
   "cell_type": "code",
   "execution_count": null,
   "id": "69764e78",
   "metadata": {},
   "outputs": [],
   "source": [
    "print(dst)"
   ]
  },
  {
   "cell_type": "code",
   "execution_count": null,
   "id": "7eae4cff",
   "metadata": {},
   "outputs": [],
   "source": [
    "import numpy as np\n",
    "\n",
    "corners = cv2.goodFeaturesToTrack(gray, 100, 0.01, 10)\n",
    "\n",
    "corners = np.int0(corners)\n",
    "\n",
    "for i in corners:\n",
    "    x, y = i.ravel()\n",
    "    cv2.circle(img, (x, y), 3, (0, 255, 0), -1)\n",
    "\n",
    "# Save the image\n",
    "image_path = 'images/shi_tomasi.jpg'\n",
    "cv2.imwrite(image_path, img)\n",
    "\n",
    "# Display the image\n",
    "Image(image_path)"
   ]
  }
 ],
 "metadata": {
  "kernelspec": {
   "display_name": "Python 3 (ipykernel)",
   "language": "python",
   "name": "python3"
  },
  "language_info": {
   "codemirror_mode": {
    "name": "ipython",
    "version": 3
   },
   "file_extension": ".py",
   "mimetype": "text/x-python",
   "name": "python",
   "nbconvert_exporter": "python",
   "pygments_lexer": "ipython3",
   "version": "3.11.1"
  }
 },
 "nbformat": 4,
 "nbformat_minor": 5
}

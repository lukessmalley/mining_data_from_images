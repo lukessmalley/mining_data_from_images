{
 "cells": [
  {
   "cell_type": "code",
   "execution_count": null,
   "metadata": {},
   "outputs": [],
   "source": [
    "import torch\n",
    "import cv2\n",
    "from IPython.display import Image, display"
   ]
  },
  {
   "cell_type": "code",
   "execution_count": null,
   "metadata": {},
   "outputs": [],
   "source": [
    "# Model\n",
    "model = torch.hub.load('ultralytics/yolov5', 'yolov5s')\n",
    "\n",
    "image = cv2.imread('images/people.jpg')\n",
    "image = cv2.resize(image, (1000, 800))"
   ]
  },
  {
   "cell_type": "code",
   "execution_count": null,
   "metadata": {},
   "outputs": [],
   "source": [
    "results = model(image)\n",
    "\n",
    "# Get bounding box coordinates, labels, and scores\n",
    "boxes = results.xyxy[0].tolist()  # convert tensor to list\n",
    "labels = results.names[0]  # class labels\n",
    "scores = results.xyxy[0][:, 4].tolist()  # object detection scores\n",
    "\n",
    "# Loop over the detected objects\n",
    "for box, label, score in zip(boxes, labels, scores):\n",
    "    x1, y1, x2, y2 = [int(coord) for coord in box[:4]]  # unpack first 4 values of box\n",
    "    label = str(label)\n",
    "    score = float(score)\n",
    "\n",
    "    # Draw bounding box\n",
    "    cv2.rectangle(image, (x1, y1), (x2, y2), (0, 255, 0), 2)\n",
    "\n",
    "    # Put label and score on the bounding box\n",
    "    text = f'{label}: {score:.2f}'\n",
    "    cv2.putText(image, text, (x1, y1 - 10), cv2.FONT_HERSHEY_SIMPLEX, 0.9, (0, 255, 0), 2)\n"
   ]
  },
  {
   "cell_type": "code",
   "execution_count": null,
   "metadata": {},
   "outputs": [],
   "source": [
    "# Save the image with bounding boxes\n",
    "output_image_path = 'images/output.jpg'  # Specify the path to save the image\n",
    "cv2.imwrite(output_image_path, image)\n",
    "\n",
    "# Display the saved image using IPython display\n",
    "display(Image(filename=output_image_path))"
   ]
  }
 ],
 "metadata": {
  "kernelspec": {
   "display_name": "Python 3 (ipykernel)",
   "language": "python",
   "name": "python3"
  },
  "language_info": {
   "codemirror_mode": {
    "name": "ipython",
    "version": 3
   },
   "file_extension": ".py",
   "mimetype": "text/x-python",
   "name": "python",
   "nbconvert_exporter": "python",
   "pygments_lexer": "ipython3",
   "version": "3.11.1"
  }
 },
 "nbformat": 4,
 "nbformat_minor": 2
}

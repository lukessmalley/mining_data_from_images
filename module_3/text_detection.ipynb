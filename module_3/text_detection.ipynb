{
  "nbformat": 4,
  "nbformat_minor": 0,
  "metadata": {
    "colab": {
      "provenance": []
    },
    "kernelspec": {
      "name": "python3",
      "display_name": "Python 3"
    },
    "language_info": {
      "name": "python"
    }
  },
  "cells": [
    {
      "cell_type": "code",
      "execution_count": null,
      "metadata": {
        "id": "erKBL06ES8FU"
      },
      "outputs": [],
      "source": [
        "import cv2\n",
        "import matplotlib.pyplot as plt\n",
        "import numpy as np\n",
        "import pytesseract\n",
        "\n",
        "# Loading the image from the specified directory address\n",
        "sign = cv2.imread('/images/road_sign.jpg')\n",
        "gray = cv2.cvtColor(sign, cv2.COLOR_BGR2GRAY)\n",
        "\n",
        "# Perform image thresholding\n",
        "_, threshold = cv2.threshold(gray, 0, 255, cv2.THRESH_BINARY + cv2.THRESH_OTSU)\n",
        "\n",
        "# Perform text detection using pytesseract\n",
        "text = pytesseract.image_to_string(threshold)\n",
        "\n",
        "# Print the detected text\n",
        "print(text)"
      ]
    }
  ]
}
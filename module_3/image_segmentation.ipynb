{
  "cells": [
    {
      "cell_type": "code",
      "execution_count": null,
      "metadata": {
        "id": "1nDpodIs9iqr"
      },
      "outputs": [],
      "source": [
        "import cv2\n",
        "import matplotlib.pyplot as plt\n",
        "import numpy as np\n",
        "\n",
        "# Loading the image from the specified directory address\n",
        "bird = cv2.imread('/images/bird.jpg')\n",
        "bird = cv2.cvtColor(bird, cv2.COLOR_BGR2RGB)\n",
        "gray_bird = cv2.cvtColor(bird, cv2.COLOR_RGB2GRAY)"
      ]
    },
    {
      "cell_type": "markdown",
      "metadata": {
        "id": "ktMWqsK3rfNY"
      },
      "source": [
        "# Thresholds"
      ]
    },
    {
      "cell_type": "code",
      "execution_count": null,
      "metadata": {
        "id": "1dmws36bYiA2"
      },
      "outputs": [],
      "source": [
        "thresholds = [100, 150, 200]\n",
        "\n",
        "# Set the number of rows and columns for subplots\n",
        "num_rows = len(thresholds)\n",
        "num_columns = 2  # Two columns: grayscale and binary images\n",
        "\n",
        "# Create a figure with subplots\n",
        "fig, axs = plt.subplots(num_rows, num_columns, figsize=(10, 10))\n",
        "\n",
        "# Iterate over the thresholds and display the images\n",
        "for i, threshold in enumerate(thresholds):\n",
        "    # Perform thresholding by comparing the pixel values with the threshold\n",
        "    _, binary_image = cv2.threshold(gray_bird, threshold, 255, cv2.THRESH_BINARY)\n",
        "\n",
        "    # Display the grayscale image\n",
        "    axs[i, 0].imshow(gray_bird, cmap=\"gray\")\n",
        "    axs[i, 0].axis('off')\n",
        "\n",
        "    # Display the thresholded binary image\n",
        "    axs[i, 1].imshow(binary_image, cmap=\"gray\")\n",
        "    axs[i, 1].axis('off')\n",
        "    axs[i, 1].set_title('Threshold = {}'.format(threshold))\n",
        "\n",
        "# Show the plot\n",
        "plt.show()"
      ]
    },
    {
      "cell_type": "markdown",
      "source": [
        "# Region-based Segmentation"
      ],
      "metadata": {
        "id": "f-9S_CgMPquO"
      }
    },
    {
      "cell_type": "code",
      "execution_count": null,
      "metadata": {
        "id": "ZeqiGEsYc6Qe"
      },
      "outputs": [],
      "source": [
        "# Set the threshold value\n",
        "threshold = 100\n",
        "\n",
        "# Perform thresholding by comparing the pixel values with the threshold\n",
        "_, binary_image = cv2.threshold(gray_bird, threshold, 255, cv2.THRESH_BINARY)\n",
        "\n",
        "# Apply connected component analysis to identify regions\n",
        "num_labels, labels = cv2.connectedComponents(binary_image)\n",
        "\n",
        "# Create an empty mask to store the segmented region\n",
        "segmented_image = np.zeros_like(bird)\n",
        "\n",
        "# Iterate over the labels and assign random colors to each region\n",
        "for label in range(1, num_labels):\n",
        "    mask = labels == label\n",
        "    segmented_image[mask] = np.random.randint(0, 255, size=3)\n",
        "\n",
        "# Display the segmented image\n",
        "plt.imshow(segmented_image)\n",
        "plt.axis('off')\n",
        "plt.title(\"Region-Based Segmentation\")\n",
        "plt.show()"
      ]
    },
    {
      "cell_type": "markdown",
      "metadata": {
        "id": "oOCSK8KDrcVp"
      },
      "source": [
        "# Edge Detection"
      ]
    },
    {
      "cell_type": "code",
      "execution_count": null,
      "metadata": {
        "id": "ryNDleCKe0sU"
      },
      "outputs": [],
      "source": [
        "# Step Edges - Canny Edge Detection\n",
        "step_edges = cv2.Canny(gray_bird, 100, 200)\n",
        "\n",
        "# Ramp Edges - Sobel Operator\n",
        "sobel_x = cv2.Sobel(gray_bird, cv2.CV_64F, 1, 0, ksize=3)\n",
        "sobel_y = cv2.Sobel(gray_bird, cv2.CV_64F, 0, 1, ksize=3)\n",
        "magnitude = np.sqrt(sobel_x ** 2 + sobel_y ** 2)\n",
        "ramp_edges = np.uint8(magnitude)\n",
        "\n",
        "# Ridge Edges - Laplacian of Gaussian (LoG)\n",
        "log_filter = cv2.GaussianBlur(gray_bird, (3, 3), 0)\n",
        "log_edges = cv2.Laplacian(log_filter, cv2.CV_64F)\n",
        "\n",
        "# Display the images\n",
        "plt.figure(figsize=(10, 10))\n",
        "\n",
        "plt.subplot(1, 3, 1)\n",
        "plt.imshow(step_edges, cmap='gray')\n",
        "plt.title(\"Step Edges\")\n",
        "plt.axis('off')\n",
        "\n",
        "plt.subplot(1, 3, 2)\n",
        "plt.imshow(ramp_edges, cmap='gray')\n",
        "plt.title(\"Ramp Edges\")\n",
        "plt.axis('off')\n",
        "\n",
        "plt.subplot(1, 3, 3)\n",
        "plt.imshow(log_edges, cmap='gray')\n",
        "plt.title(\"Ridge Edges\")\n",
        "plt.axis('off')\n",
        "\n",
        "plt.tight_layout()\n",
        "plt.show()"
      ]
    },
    {
      "cell_type": "markdown",
      "metadata": {
        "id": "eQkoLCjArXnN"
      },
      "source": [
        "# Clustering"
      ]
    },
    {
      "cell_type": "code",
      "execution_count": null,
      "metadata": {
        "colab": {
          "base_uri": "https://localhost:8080/"
        },
        "id": "SmKUWy03f_e2",
        "outputId": "e10518ef-5a8b-42f0-9338-820ddf1a6651"
      },
      "outputs": [
        {
          "name": "stderr",
          "output_type": "stream",
          "text": [
            "/usr/local/lib/python3.10/dist-packages/sklearn/cluster/_kmeans.py:870: FutureWarning: The default value of `n_init` will change from 10 to 'auto' in 1.4. Set the value of `n_init` explicitly to suppress the warning\n",
            "  warnings.warn(\n"
          ]
        }
      ],
      "source": [
        "from sklearn.cluster import KMeans\n",
        "from sklearn.metrics import pairwise_distances_argmin_min, completeness_score, homogeneity_score\n",
        "\n",
        "# Reshape the grayscale image into a 2D array\n",
        "gray_bird_2d = gray_bird.reshape(-1, 1)\n",
        "\n",
        "# Define a list of k values to loop over\n",
        "k_values = [2, 3, 4, 5]\n",
        "\n",
        "best_purity = -1\n",
        "best_k = -1\n",
        "\n",
        "# Loop over different k values\n",
        "for k in k_values:\n",
        "    # Perform k-means clustering\n",
        "    kmeans = KMeans(n_clusters=k, random_state=0)\n",
        "    kmeans.fit(gray_bird_2d)\n",
        "\n",
        "    # Get the labels and centroids of the clusters\n",
        "    labels = kmeans.labels_\n",
        "    centroids = kmeans.cluster_centers_\n",
        "\n",
        "    # Reshape the labels back into the shape of the image\n",
        "    segmented_image = labels.reshape(gray_bird.shape)\n",
        "\n",
        "    # Calculate evaluation metrics\n",
        "    compactness_avg = np.mean(pairwise_distances_argmin_min(gray_bird_2d, centroids)[1])\n",
        "    purity_completeness = completeness_score(labels, pairwise_distances_argmin_min(gray_bird_2d, centroids)[0])\n",
        "    purity_homogeneity = homogeneity_score(labels, pairwise_distances_argmin_min(gray_bird_2d, centroids)[0])\n",
        "\n",
        "    if purity_completeness + purity_homogeneity > best_purity:\n",
        "        best_purity = purity_completeness + purity_homogeneity\n",
        "        best_k = k\n",
        "\n",
        "# Print the best k-value\n",
        "print(\"Best K:\", best_k)"
      ]
    },
    {
      "cell_type": "code",
      "execution_count": null,
      "metadata": {
        "id": "PF-1fabklc-J"
      },
      "outputs": [],
      "source": [
        "# Perform k-means clustering with k=2\n",
        "kmeans = KMeans(n_clusters=2, random_state=0)\n",
        "kmeans.fit(gray_bird_2d)\n",
        "labels = kmeans.labels_\n",
        "segmented_image = labels.reshape(gray_bird.shape)\n",
        "\n",
        "# Display the segmented image\n",
        "plt.imshow(segmented_image)\n",
        "plt.title(\"K-Means Segmentation (k=2)\")\n",
        "plt.axis('off')\n",
        "plt.show()"
      ]
    },
    {
      "cell_type": "markdown",
      "metadata": {
        "id": "Q6WzsRavrUp5"
      },
      "source": [
        "# Watershed segmentation"
      ]
    },
    {
      "cell_type": "code",
      "execution_count": null,
      "metadata": {
        "id": "cuW-OSibmqtY"
      },
      "outputs": [],
      "source": [
        "# Apply adaptive thresholding to obtain a binary image\n",
        "_, binary_image = cv2.threshold(gray_bird, 0, 255, cv2.THRESH_BINARY_INV + cv2.THRESH_OTSU)\n",
        "\n",
        "# Perform morphological operations to remove noise and enhance the segmented regions\n",
        "kernel = np.ones((3, 3), np.uint8)\n",
        "opening = cv2.morphologyEx(binary_image, cv2.MORPH_OPEN, kernel, iterations=2)\n",
        "sure_bg = cv2.dilate(opening, kernel, iterations=3)\n",
        "sure_bg = np.uint8(sure_bg)\n",
        "\n",
        "# Apply distance transform to find the areas sure to be foreground\n",
        "dist_transform = cv2.distanceTransform(opening, cv2.DIST_L2, 5)\n",
        "_, sure_fg = cv2.threshold(dist_transform, 0.7*dist_transform.max(), 255, 0)\n",
        "sure_fg = np.uint8(sure_fg)\n",
        "\n",
        "# Identify the areas of uncertainty by subtracting the foreground from the background\n",
        "unknown = cv2.subtract(sure_bg, sure_fg)\n",
        "\n",
        "# Mark the regions of foreground and uncertainty with labels\n",
        "_, markers = cv2.connectedComponents(sure_fg)\n",
        "markers += 1\n",
        "markers[unknown == 255] = 0\n",
        "\n",
        "# Apply watershed segmentation to segment the regions\n",
        "segmented_image = cv2.watershed(bird, markers)\n",
        "\n",
        "# Color the segmented regions for visualization\n",
        "bird[segmented_image == -1] = [0, 0, 255]\n",
        "\n",
        "# Display the segmented image\n",
        "plt.imshow(cv2.cvtColor(bird, cv2.COLOR_BGR2RGB))\n",
        "plt.axis('off')\n",
        "plt.title(\"Watershed Segmentation\")\n",
        "plt.show()"
      ]
    }
  ],
  "metadata": {
    "colab": {
      "provenance": []
    },
    "kernelspec": {
      "display_name": "Python 3",
      "name": "python3"
    },
    "language_info": {
      "name": "python"
    }
  },
  "nbformat": 4,
  "nbformat_minor": 0
}
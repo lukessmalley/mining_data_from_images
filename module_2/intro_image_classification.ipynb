{
 "cells": [
  {
   "cell_type": "code",
   "execution_count": 1,
   "id": "a716c5d2",
   "metadata": {},
   "outputs": [],
   "source": [
    "import cv2\n",
    "import os\n",
    "import numpy as np"
   ]
  },
  {
   "cell_type": "code",
   "execution_count": 2,
   "id": "6f82ab08",
   "metadata": {},
   "outputs": [],
   "source": [
    "def load_images_from_folder(folder):\n",
    "    images = []\n",
    "    labels = []\n",
    "    for subfolder in os.listdir(folder):\n",
    "        category = subfolder \n",
    "        for filename in os.listdir(os.path.join(folder, subfolder)):\n",
    "            img = cv2.imread(os.path.join(folder, subfolder, filename))\n",
    "            if img is not None:\n",
    "                img = cv2.resize(img,(64,64)) \n",
    "                images.append(np.array(img).flatten())\n",
    "                labels.append(category)\n",
    "    return images, labels"
   ]
  },
  {
   "cell_type": "code",
   "execution_count": 3,
   "id": "68082b76",
   "metadata": {},
   "outputs": [],
   "source": [
    "train_images, train_labels = load_images_from_folder(\"train\")\n",
    "test_images, test_labels = load_images_from_folder(\"test\")"
   ]
  }
 ],
 "metadata": {
  "kernelspec": {
   "display_name": "Python 3 (ipykernel)",
   "language": "python",
   "name": "python3"
  },
  "language_info": {
   "codemirror_mode": {
    "name": "ipython",
    "version": 3
   },
   "file_extension": ".py",
   "mimetype": "text/x-python",
   "name": "python",
   "nbconvert_exporter": "python",
   "pygments_lexer": "ipython3",
   "version": "3.9.13"
  }
 },
 "nbformat": 4,
 "nbformat_minor": 5
}

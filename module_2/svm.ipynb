{
  "cells": [
    {
      "cell_type": "code",
      "execution_count": null,
      "metadata": {
        "id": "2jIUMD-FQkYF"
      },
      "outputs": [],
      "source": [
        "import cv2\n",
        "import os\n",
        "import numpy as np\n",
        "from sklearn.model_selection import train_test_split\n",
        "from sklearn import svm\n",
        "from sklearn import preprocessing\n",
        "from sklearn.model_selection import GridSearchCV"
      ]
    },
    {
      "cell_type": "code",
      "execution_count": null,
      "metadata": {
        "colab": {
          "base_uri": "https://localhost:8080/"
        },
        "id": "_XF7urR9U_vu",
        "outputId": "431050ce-22c0-46d3-97c2-61b785250565"
      },
      "outputs": [],
      "source": [
        "def load_images_from_folder(folder):\n",
        "    images = []\n",
        "    labels = []\n",
        "    for subfolder in os.listdir(folder):\n",
        "        category = subfolder\n",
        "        for filename in os.listdir(os.path.join(folder, subfolder)):\n",
        "            img = cv2.imread(os.path.join(folder, subfolder, filename))\n",
        "            if img is not None:\n",
        "                img = cv2.resize(img,(64,64))\n",
        "                images.append(np.array(img).flatten())\n",
        "                labels.append(category)\n",
        "    return images, labels\n",
        "\n",
        "train_images, train_labels = load_images_from_folder(\"images/train\")\n",
        "test_images, test_labels = load_images_from_folder(\"images/test\")\n",
        "\n",
        "le = preprocessing.LabelEncoder()\n",
        "train_labels = le.fit_transform(train_labels)\n",
        "test_labels = le.transform(test_labels)\n",
        "\n",
        "model = svm.SVC()\n",
        "model.fit(train_images, train_labels)\n",
        "\n",
        "prediction = model.predict(test_images)\n",
        "accuracy = np.sum(np.array(test_labels) == np.array(prediction)) / len(test_labels)\n",
        "\n",
        "print(\"Accuracy:\", accuracy)"
      ]
    },
    {
      "cell_type": "code",
      "execution_count": null,
      "metadata": {
        "colab": {
          "base_uri": "https://localhost:8080/"
        },
        "id": "OwR2_Sq11fvg",
        "outputId": "284eb5a8-fba1-46d3-b451-142979d4d3ba"
      },
      "outputs": [],
      "source": [
        "param_grid = [\n",
        "  {'C': [0.1, 1, 10, 100], 'kernel': ['linear', 'rbf']},\n",
        "  {'C': [0.1, 1, 10, 100], 'gamma': [1, 0.1, 0.01, 0.001, 0.0001], 'kernel': ['rbf']},\n",
        " ]\n",
        "\n",
        "svc = svm.SVC()\n",
        "\n",
        "grid_search = GridSearchCV(estimator = svc, param_grid = param_grid, cv = 3, n_jobs = -1, verbose = 2)\n",
        "\n",
        "grid_search.fit(train_images, train_labels)\n",
        "\n",
        "print(grid_search.best_params_)\n",
        "\n",
        "prediction = grid_search.predict(test_images)\n",
        "accuracy = np.sum(np.array(test_labels) == np.array(prediction)) / len(test_labels)\n",
        "\n",
        "print(\"Accuracy:\", accuracy)"
      ]
    }
  ],
  "metadata": {
    "colab": {
      "provenance": []
    },
    "kernelspec": {
      "display_name": "Python 3",
      "name": "python3"
    },
    "language_info": {
      "codemirror_mode": {
        "name": "ipython",
        "version": 3
      },
      "file_extension": ".py",
      "mimetype": "text/x-python",
      "name": "python",
      "nbconvert_exporter": "python",
      "pygments_lexer": "ipython3",
      "version": "3.11.1"
    }
  },
  "nbformat": 4,
  "nbformat_minor": 0
}

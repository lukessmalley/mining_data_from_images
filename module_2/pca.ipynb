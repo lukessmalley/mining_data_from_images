{
  "cells": [
    {
      "cell_type": "code",
      "execution_count": null,
      "metadata": {
        "id": "2jIUMD-FQkYF"
      },
      "outputs": [],
      "source": [
        "import cv2\n",
        "import os\n",
        "import numpy as np\n",
        "from sklearn.preprocessing import LabelEncoder\n",
        "from sklearn.metrics import accuracy_score\n",
        "from sklearn.decomposition import PCA\n",
        "from sklearn.linear_model import LogisticRegression\n",
        "from keras.applications.vgg16 import VGG16\n",
        "from tensorflow.keras.preprocessing import image\n",
        "from keras.applications.vgg16 import preprocess_input"
      ]
    },
    {
      "cell_type": "code",
      "execution_count": null,
      "metadata": {
        "id": "_XF7urR9U_vu"
      },
      "outputs": [],
      "source": [
        "def load_images_from_folder(folder):\n",
        "    images = []\n",
        "    labels = []\n",
        "    for subfolder in os.listdir(folder):\n",
        "        category = subfolder\n",
        "        for filename in os.listdir(os.path.join(folder, subfolder)):\n",
        "            img = cv2.imread(os.path.join(folder, subfolder, filename))\n",
        "            if img is not None:\n",
        "                img = cv2.resize(img,(64,64))\n",
        "                img = img.flatten()\n",
        "                images.append(img)\n",
        "                labels.append(category)\n",
        "    return images, labels\n",
        "\n",
        "train_images, train_labels = load_images_from_folder(\"images/train\")\n",
        "test_images, test_labels = load_images_from_folder(\"images/test\")\n",
        "\n",
        "train_images = np.array(train_images)\n",
        "test_images = np.array(test_images)\n",
        "\n",
        "le = LabelEncoder()\n",
        "train_labels = le.fit_transform(train_labels)\n",
        "test_labels = le.transform(test_labels)\n",
        "\n",
        "pca = PCA(n_components=50)\n",
        "\n",
        "train_images = pca.fit_transform(train_images)\n",
        "test_images = pca.transform(test_images)\n",
        "\n",
        "model = LogisticRegression(random_state=0).fit(train_images, train_labels)\n",
        "\n",
        "predict_labels = model.predict(test_images)\n",
        "\n",
        "print(\"Accuracy: %.2f%%\" % (accuracy_score(test_labels, predict_labels)*100))"
      ]
    },
    {
      "cell_type": "code",
      "execution_count": null,
      "metadata": {
        "id": "VZ6gSPxQet0L"
      },
      "outputs": [],
      "source": [
        "def load_images_from_folder(folder):\n",
        "    images = []\n",
        "    labels = []\n",
        "    model = VGG16(weights='imagenet', include_top=False)\n",
        "    for subfolder in os.listdir(folder):\n",
        "        category = subfolder\n",
        "        for filename in os.listdir(os.path.join(folder, subfolder)):\n",
        "            img = image.load_img(os.path.join(folder, subfolder, filename), target_size=(224, 224))\n",
        "            img = image.img_to_array(img)\n",
        "            img = np.expand_dims(img, axis=0)\n",
        "            img = preprocess_input(img)\n",
        "\n",
        "            features = model.predict(img)\n",
        "            features = features.flatten()\n",
        "            images.append(features)\n",
        "            labels.append(category)\n",
        "    return images, labels\n",
        "\n",
        "train_images, train_labels = load_images_from_folder(\"images/train\")\n",
        "test_images, test_labels = load_images_from_folder(\"images/test\")\n",
        "\n",
        "train_images = np.array(train_images)\n",
        "test_images = np.array(test_images)\n",
        "\n",
        "le = LabelEncoder()\n",
        "train_labels = le.fit_transform(train_labels)\n",
        "test_labels = le.transform(test_labels)\n",
        "\n",
        "model = LogisticRegression(random_state=0).fit(train_images, train_labels)\n",
        "predict_labels = model.predict(test_images)\n",
        "\n",
        "print(\"Accuracy: %.2f%%\" % (accuracy_score(test_labels, predict_labels)*100))"
      ]
    }
  ],
  "metadata": {
    "colab": {
      "provenance": []
    },
    "kernelspec": {
      "display_name": "Python 3",
      "name": "python3"
    },
    "language_info": {
      "codemirror_mode": {
        "name": "ipython",
        "version": 3
      },
      "file_extension": ".py",
      "mimetype": "text/x-python",
      "name": "python",
      "nbconvert_exporter": "python",
      "pygments_lexer": "ipython3",
      "version": "3.11.1"
    }
  },
  "nbformat": 4,
  "nbformat_minor": 0
}

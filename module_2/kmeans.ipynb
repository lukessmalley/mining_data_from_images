{
  "cells": [
    {
      "cell_type": "code",
      "execution_count": null,
      "metadata": {
        "id": "2jIUMD-FQkYF"
      },
      "outputs": [],
      "source": [
        "from sklearn.cluster import KMeans\n",
        "from sklearn.preprocessing import LabelEncoder\n",
        "from sklearn.metrics import accuracy_score\n",
        "from keras.utils import to_categorical\n",
        "import cv2\n",
        "import os\n",
        "import numpy as np"
      ]
    },
    {
      "cell_type": "code",
      "execution_count": null,
      "metadata": {
        "id": "_XF7urR9U_vu"
      },
      "outputs": [],
      "source": [
        "def load_images_from_folder(folder):\n",
        "    images = []\n",
        "    labels = []\n",
        "    for subfolder in os.listdir(folder):\n",
        "        category = subfolder\n",
        "        for filename in os.listdir(os.path.join(folder, subfolder)):\n",
        "            img = cv2.imread(os.path.join(folder, subfolder, filename))\n",
        "            if img is not None:\n",
        "                img = cv2.resize(img,(64,64))\n",
        "                img = img.flatten()\n",
        "                images.append(img)\n",
        "                labels.append(category)\n",
        "    return images, labels\n",
        "\n",
        "train_images, train_labels = load_images_from_folder(\"images/train\")\n",
        "test_images, test_labels = load_images_from_folder(\"images/test\")\n",
        "\n",
        "train_images = np.array(train_images)\n",
        "test_images = np.array(test_images)\n",
        "\n",
        "le = LabelEncoder()\n",
        "train_labels = le.fit_transform(train_labels)\n",
        "test_labels = le.transform(test_labels)\n",
        "\n",
        "num_classes = len(np.unique(train_labels))\n",
        "kmeans = KMeans(n_clusters=num_classes, random_state=0)\n",
        "\n",
        "kmeans.fit(train_images)\n",
        "\n",
        "predict_labels = kmeans.predict(test_images)\n",
        "\n",
        "print(\"Accuracy: %.2f%%\" % (accuracy_score(test_labels, predict_labels)*100))"
      ]
    }
  ],
  "metadata": {
    "colab": {
      "provenance": []
    },
    "kernelspec": {
      "display_name": "Python 3",
      "name": "python3"
    },
    "language_info": {
      "codemirror_mode": {
        "name": "ipython",
        "version": 3
      },
      "file_extension": ".py",
      "mimetype": "text/x-python",
      "name": "python",
      "nbconvert_exporter": "python",
      "pygments_lexer": "ipython3",
      "version": "3.11.1"
    }
  },
  "nbformat": 4,
  "nbformat_minor": 0
}

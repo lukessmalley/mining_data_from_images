{
  "nbformat": 4,
  "nbformat_minor": 0,
  "metadata": {
    "colab": {
      "provenance": []
    },
    "kernelspec": {
      "name": "python3",
      "display_name": "Python 3"
    },
    "language_info": {
      "name": "python"
    }
  },
  "cells": [
    {
      "cell_type": "code",
      "source": [
        "from sklearn.cluster import KMeans\n",
        "from sklearn.preprocessing import LabelEncoder\n",
        "from sklearn.metrics import accuracy_score\n",
        "from keras.utils import np_utils\n",
        "import cv2\n",
        "import os\n",
        "import numpy as np"
      ],
      "metadata": {
        "id": "2jIUMD-FQkYF"
      },
      "execution_count": null,
      "outputs": []
    },
    {
      "cell_type": "code",
      "source": [
        "def load_images_from_folder(folder):\n",
        "    images = []\n",
        "    labels = []\n",
        "    for subfolder in os.listdir(folder):\n",
        "        category = subfolder\n",
        "        for filename in os.listdir(os.path.join(folder, subfolder)):\n",
        "            img = cv2.imread(os.path.join(folder, subfolder, filename))\n",
        "            if img is not None:\n",
        "                img = cv2.resize(img,(64,64))\n",
        "                img = img.flatten()\n",
        "                images.append(img)\n",
        "                labels.append(category)\n",
        "    return images, labels\n",
        "\n",
        "train_images, train_labels = load_images_from_folder(\"/train\")\n",
        "test_images, test_labels = load_images_from_folder(\"/test\")\n",
        "\n",
        "train_images = np.array(train_images)\n",
        "test_images = np.array(test_images)\n",
        "\n",
        "le = LabelEncoder()\n",
        "train_labels = le.fit_transform(train_labels)\n",
        "test_labels = le.transform(test_labels)\n",
        "\n",
        "num_classes = len(np.unique(train_labels))\n",
        "kmeans = KMeans(n_clusters=num_classes, random_state=0)\n",
        "\n",
        "kmeans.fit(train_images)\n",
        "\n",
        "predict_labels = kmeans.predict(test_images)\n",
        "\n",
        "print(\"Accuracy: %.2f%%\" % (accuracy_score(test_labels, predict_labels)*100))"
      ],
      "metadata": {
        "id": "_XF7urR9U_vu"
      },
      "execution_count": null,
      "outputs": []
    }
  ]
}
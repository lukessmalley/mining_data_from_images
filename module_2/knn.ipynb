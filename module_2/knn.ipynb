{
  "nbformat": 4,
  "nbformat_minor": 0,
  "metadata": {
    "colab": {
      "provenance": []
    },
    "kernelspec": {
      "name": "python3",
      "display_name": "Python 3"
    },
    "language_info": {
      "name": "python"
    }
  },
  "cells": [
    {
      "cell_type": "code",
      "source": [
        "import cv2\n",
        "import os\n",
        "import numpy as np\n",
        "from sklearn.model_selection import train_test_split\n",
        "from sklearn.neighbors import KNeighborsClassifier\n",
        "from sklearn import preprocessing"
      ],
      "metadata": {
        "id": "2jIUMD-FQkYF"
      },
      "execution_count": null,
      "outputs": []
    },
    {
      "cell_type": "code",
      "source": [
        "def load_images_from_folder(folder):\n",
        "    images = []\n",
        "    labels = []\n",
        "    for subfolder in os.listdir(folder):\n",
        "        category = subfolder\n",
        "        for filename in os.listdir(os.path.join(folder, subfolder)):\n",
        "            img = cv2.imread(os.path.join(folder, subfolder, filename))\n",
        "            if img is not None:\n",
        "                img = cv2.resize(img,(64,64))\n",
        "                images.append(np.array(img).flatten())\n",
        "                labels.append(category)\n",
        "    return images, labels\n",
        "\n",
        "train_images, train_labels = load_images_from_folder(\"/train\")\n",
        "test_images, test_labels = load_images_from_folder(\"/test\")\n",
        "\n",
        "le = preprocessing.LabelEncoder()\n",
        "train_labels = le.fit_transform(train_labels)\n",
        "test_labels = le.transform(test_labels)\n",
        "\n",
        "model = KNeighborsClassifier(n_neighbors=3)\n",
        "model.fit(train_images, train_labels)\n",
        "\n",
        "prediction = model.predict(test_images)\n",
        "accuracy = np.sum(np.array(test_labels) == np.array(prediction)) / len(test_labels)\n",
        "\n",
        "print(\"Accuracy:\", accuracy)"
      ],
      "metadata": {
        "colab": {
          "base_uri": "https://localhost:8080/"
        },
        "id": "_XF7urR9U_vu",
        "outputId": "7c74ee01-c4b2-4c34-8daf-63e2095f436c"
      },
      "execution_count": null,
      "outputs": [
        {
          "output_type": "stream",
          "name": "stdout",
          "text": [
            "Accuracy: 0.55\n"
          ]
        }
      ]
    },
    {
      "cell_type": "code",
      "source": [
        "neighbors = list(range(1,50,2))\n",
        "\n",
        "k_accuracy = {}\n",
        "\n",
        "for k in neighbors:\n",
        "    knn = KNeighborsClassifier(n_neighbors=k)\n",
        "    knn.fit(train_images, train_labels)\n",
        "    prediction = knn.predict(test_images)\n",
        "    accuracy = np.sum(np.array(test_labels) == np.array(prediction)) / len(test_labels)\n",
        "    k_accuracy[k] = accuracy\n",
        "\n",
        "best_k = max(k_accuracy, key=k_accuracy.get)\n",
        "\n",
        "print(best_k)"
      ],
      "metadata": {
        "colab": {
          "base_uri": "https://localhost:8080/"
        },
        "id": "-Y_UAvrmhmox",
        "outputId": "e1de905f-aa74-47ee-a136-7146cc367712"
      },
      "execution_count": null,
      "outputs": [
        {
          "output_type": "stream",
          "name": "stdout",
          "text": [
            "19\n"
          ]
        }
      ]
    },
    {
      "cell_type": "code",
      "source": [
        "model = KNeighborsClassifier(n_neighbors=19)\n",
        "model.fit(train_images, train_labels)\n",
        "\n",
        "prediction = model.predict(test_images)\n",
        "accuracy = np.sum(np.array(test_labels) == np.array(prediction)) / len(test_labels)\n",
        "\n",
        "print(\"Accuracy:\", accuracy)"
      ],
      "metadata": {
        "colab": {
          "base_uri": "https://localhost:8080/"
        },
        "id": "NkzmE6DUr29s",
        "outputId": "e564c058-81e9-4f06-bc08-92eab558fba7"
      },
      "execution_count": null,
      "outputs": [
        {
          "output_type": "stream",
          "name": "stdout",
          "text": [
            "Accuracy: 0.5928571428571429\n"
          ]
        }
      ]
    }
  ]
}